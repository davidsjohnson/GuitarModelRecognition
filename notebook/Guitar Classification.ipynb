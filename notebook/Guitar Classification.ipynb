{
 "cells": [
  {
   "cell_type": "markdown",
   "metadata": {},
   "source": [
    "# Guitar Model Classification\n",
    "## Import required Libraries"
   ]
  },
  {
   "cell_type": "code",
   "execution_count": 14,
   "metadata": {
    "collapsed": false
   },
   "outputs": [],
   "source": [
    "%matplotlib inline\n",
    "\n",
    "import numpy as np\n",
    "import matplotlib.pyplot as plt\n",
    "\n",
    "from sklearn import preprocessing\n",
    "from sklearn.neighbors import KNeighborsClassifier\n",
    "from sklearn.naive_bayes import GaussianNB\n",
    "from sklearn.svm import SVC \n",
    "from sklearn.dummy import DummyClassifier\n",
    "from sklearn.tree import DecisionTreeClassifier\n",
    "\n",
    "from sklearn.cross_validation import train_test_split"
   ]
  },
  {
   "cell_type": "markdown",
   "metadata": {},
   "source": [
    "## Load Training Data"
   ]
  },
  {
   "cell_type": "code",
   "execution_count": 16,
   "metadata": {
    "collapsed": false
   },
   "outputs": [],
   "source": [
    "# Normalize Feature to a range between -1 and 1\n",
    "scaler = preprocessing.MinMaxScaler(feature_range=(-1,1))\n",
    "\n",
    "data = np.load(\"../data/acoustic_electric.npz\")\n",
    "features = scaler.fit_transform(data['features'])\n",
    "labels = data['labels']\n",
    "sources = data['sources']\n",
    "classes = data['classes']"
   ]
  },
  {
   "cell_type": "markdown",
   "metadata": {},
   "source": [
    "## Load Test Data"
   ]
  },
  {
   "cell_type": "code",
   "execution_count": 17,
   "metadata": {
    "collapsed": false
   },
   "outputs": [],
   "source": [
    "# testData = np.load(\"../data/bextract_single_test.npz\")\n",
    "\n",
    "# testFeatures = scaler.fit_transform(testData['features'])\n",
    "# testLabels = testData['labels']\n",
    "# testSources = testData['sources']\n",
    "\n",
    "trainingData, testData, trainingLabels, testLabels =  train_test_split(features, labels, test_size=0.33, random_state=42)"
   ]
  },
  {
   "cell_type": "code",
   "execution_count": 18,
   "metadata": {
    "collapsed": false
   },
   "outputs": [
    {
     "data": {
      "text/plain": [
       "33634"
      ]
     },
     "execution_count": 18,
     "metadata": {},
     "output_type": "execute_result"
    }
   ],
   "source": [
    "len(testLabels)"
   ]
  },
  {
   "cell_type": "markdown",
   "metadata": {},
   "source": [
    "## Train Classifier"
   ]
  },
  {
   "cell_type": "code",
   "execution_count": 19,
   "metadata": {
    "collapsed": false
   },
   "outputs": [
    {
     "data": {
      "text/plain": [
       "SVC(C=1.0, cache_size=200, class_weight=None, coef0=0.0, degree=3, gamma=0.0,\n",
       "  kernel='rbf', max_iter=-1, probability=False, random_state=None,\n",
       "  shrinking=True, tol=0.001, verbose=False)"
      ]
     },
     "execution_count": 19,
     "metadata": {},
     "output_type": "execute_result"
    }
   ],
   "source": [
    "# model = KNeighborsClassifier(n_neighbors=1)\n",
    "# model = GaussianNB()\n",
    "model = SVC()\n",
    "# model = DecisionTreeClassifier()\n",
    "# model = DummyClassifier(strategy='most_frequent')\n",
    "\n",
    "model.fit(trainingData, trainingLabels)"
   ]
  },
  {
   "cell_type": "code",
   "execution_count": 20,
   "metadata": {
    "collapsed": false
   },
   "outputs": [
    {
     "data": {
      "text/plain": [
       "array([ 1.])"
      ]
     },
     "execution_count": 20,
     "metadata": {},
     "output_type": "execute_result"
    }
   ],
   "source": [
    "model.predict([  1.27929687e-02,   1.31835938e-02,   1.26596590e-02,   7.09336326e-02,\n",
    "  -7.52855180e+01,   5.84245664e+00,   2.57158601e+00,   1.93837656e+00,\n",
    "   1.40690361e+00,   1.22374845e+00,   7.98509423e-01,   5.10000599e-01,\n",
    "   1.93025722e-01,   2.29708432e-01,   4.74888412e-01,   4.73021053e-01,\n",
    "   3.50734408e-01,   1.10575335e-06,   1.10659863e-06,   1.14047687e-06,\n",
    "   1.24277493e-06,   1.29963961e-06,   1.32382605e-06,   1.31582928e-06,\n",
    "   1.27870244e-06,   1.22787128e-06,   1.18585854e-06,   1.14826800e-06,\n",
    "   1.11668611e-06 ,  1.18058787e+00,   1.51133210e+00,   1.76053509e+00,\n",
    "   1.76053509e+00,   1.77782947e+00,   1.42303714e+00,   1.54456132e+00,\n",
    "   1.98823100e+00,   1.94177757e+00,   2.04733266e+00,   2.03475350e+00,\n",
    "   2.39271870e+00,   2.27689373e+00,   2.32564266e+00,   2.54447586e+00,\n",
    "   2.70536416e+00,   2.95129839e+00,   3.02720345e+00,   3.27104313e+00,\n",
    "   3.27883290e+00,   3.53770035e+00,   4.00783439e+00,   4.00096909e+00,\n",
    "   4.14382477e+00 ,  4.23015745e+00,   4.46094417e+00,   8.18158910e-03,\n",
    "   9.33371034e-03 ,  3.64011998e-02,   1.78140624e-02,   2.85128335e+00,\n",
    "   1.67326483e+00,   7.87823208e-01,   5.13813528e-01,   5.86386529e-01,\n",
    "   6.46039146e-01,   7.26708478e-01,   7.32690502e-01,   6.62268114e-01,\n",
    "   4.07030624e-01,   4.50227853e-01,   5.48802281e-01,   3.83256435e-01,\n",
    "   1.47670619e-06,   1.39875148e-06,   1.38175083e-06,   1.49441442e-06,\n",
    "   1.58890397e-06,   1.66069116e-06,   1.70592498e-06,   1.71462394e-06,\n",
    "   1.69563792e-06,   1.67900004e-06,   1.63078458e-06,   1.55766504e-06,\n",
    "   1.25680901e-01,   4.64474163e-01,   2.23156486e-01,   2.23156486e-01,\n",
    "   2.47901704e-01,   2.29319002e-01,   2.45194562e-01,   5.67014408e-01,\n",
    "   5.55609358e-01,   5.90240936e-01,   5.83616982e-01,   6.07474593e-01,\n",
    "   5.41573630e-01,   5.09196071e-01 ,  6.16319317e-01,   7.70159058e-01,\n",
    "   7.63601911e-01,   6.76377600e-01,   8.05575067e-01,   6.55773988e-01,\n",
    "   1.00927140e+00,   1.12344895e+00,   1.23117906e+00,   9.79102172e-01,\n",
    "   9.87536057e-01,   1.03467680e+00])"
   ]
  },
  {
   "cell_type": "markdown",
   "metadata": {},
   "source": [
    "## Predict Test Data"
   ]
  },
  {
   "cell_type": "code",
   "execution_count": null,
   "metadata": {
    "collapsed": false,
    "scrolled": true
   },
   "outputs": [],
   "source": [
    "model.score(testData, testLabels)"
   ]
  },
  {
   "cell_type": "code",
   "execution_count": 8,
   "metadata": {
    "collapsed": false
   },
   "outputs": [
    {
     "data": {
      "text/plain": [
       "array([  0.,   1.,   2.,   3.,   4.,   5.,   6.,   7.,   8.,   9.,  10.,\n",
       "        11.])"
      ]
     },
     "execution_count": 8,
     "metadata": {},
     "output_type": "execute_result"
    }
   ],
   "source": [
    "model.classes_"
   ]
  },
  {
   "cell_type": "code",
   "execution_count": 9,
   "metadata": {
    "collapsed": false
   },
   "outputs": [
    {
     "data": {
      "text/plain": [
       "array([ 7.,  8.,  3., ...,  3.,  3.,  7.])"
      ]
     },
     "execution_count": 9,
     "metadata": {},
     "output_type": "execute_result"
    }
   ],
   "source": [
    "testLabels"
   ]
  },
  {
   "cell_type": "code",
   "execution_count": 10,
   "metadata": {
    "collapsed": false
   },
   "outputs": [
    {
     "data": {
      "text/plain": [
       "array([ 5.,  3.,  9., ...,  3.,  0.,  5.])"
      ]
     },
     "execution_count": 10,
     "metadata": {},
     "output_type": "execute_result"
    }
   ],
   "source": [
    "trainingLabels"
   ]
  },
  {
   "cell_type": "code",
   "execution_count": null,
   "metadata": {
    "collapsed": true
   },
   "outputs": [],
   "source": []
  }
 ],
 "metadata": {
  "kernelspec": {
   "display_name": "Python 2",
   "language": "python",
   "name": "python2"
  },
  "language_info": {
   "codemirror_mode": {
    "name": "ipython",
    "version": 2
   },
   "file_extension": ".py",
   "mimetype": "text/x-python",
   "name": "python",
   "nbconvert_exporter": "python",
   "pygments_lexer": "ipython2",
   "version": "2.7.9"
  }
 },
 "nbformat": 4,
 "nbformat_minor": 0
}
